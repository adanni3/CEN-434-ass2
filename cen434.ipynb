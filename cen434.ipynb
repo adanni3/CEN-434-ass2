{
 "cells": [
  {
   "cell_type": "code",
   "execution_count": 3,
   "id": "e101e47c",
   "metadata": {},
   "outputs": [
    {
     "name": "stdout",
     "output_type": "stream",
     "text": [
      "[1 2 3 4]\n"
     ]
    }
   ],
   "source": [
    "import numpy as np\n",
    "a=[1,2,3,4]\n",
    "b= np.array(a)\n",
    "print(b)"
   ]
  },
  {
   "cell_type": "code",
   "execution_count": 11,
   "id": "951dad67",
   "metadata": {},
   "outputs": [
    {
     "name": "stdout",
     "output_type": "stream",
     "text": [
      "[[3 3]\n",
      " [3 3]]\n"
     ]
    }
   ],
   "source": [
    "import numpy as np\n",
    "b = [1, 0, 0,1]\n",
    "b= np.array(b)\n",
    "b = b.reshape(2,2)\n",
    "c = [2,3,3,2]\n",
    "c= np.array(c)\n",
    "c= c.reshape(2,2)\n",
    "print(b+c)"
   ]
  },
  {
   "cell_type": "code",
   "execution_count": 15,
   "id": "2b094831",
   "metadata": {},
   "outputs": [
    {
     "name": "stdout",
     "output_type": "stream",
     "text": [
      "[[ 0  1  2  3]\n",
      " [ 4  5  6  7]\n",
      " [ 8  9 10 11]\n",
      " [12 13 14 15]]\n"
     ]
    }
   ],
   "source": [
    "i = np.arange(16).reshape(4,4)\n",
    "print(i)"
   ]
  },
  {
   "cell_type": "code",
   "execution_count": 20,
   "id": "cf8db27c",
   "metadata": {},
   "outputs": [
    {
     "name": "stdout",
     "output_type": "stream",
     "text": [
      "{'height': 122, 'name': 'loki', 'eyecolor': 'brown'}\n",
      "{'height': 132, 'name': 'loki', 'eyecolor': 'brown', 'age': 20}\n"
     ]
    }
   ],
   "source": [
    "d = dict()\n",
    "d ={'height':122,\n",
    "    'name':\"loki\",\n",
    "   'eyecolor':\"brown\"}\n",
    "print(d)\n",
    "d['age']= 20\n",
    "d['height']= 132\n",
    "print(d)"
   ]
  },
  {
   "cell_type": "code",
   "execution_count": 23,
   "id": "fa544a87",
   "metadata": {},
   "outputs": [
    {
     "name": "stdout",
     "output_type": "stream",
     "text": [
      "dict_items([('height', 132), ('name', 'loki'), ('eyecolor', 'brown'), ('age', 20)])\n"
     ]
    }
   ],
   "source": [
    "f= d.items()\n",
    "print(f)"
   ]
  },
  {
   "cell_type": "code",
   "execution_count": 29,
   "id": "6b09e57d",
   "metadata": {},
   "outputs": [
    {
     "data": {
      "image/png": "[encoded data removed]",
      "text/plain": [
       "<Figure size 432x288 with 1 Axes>"
      ]
     },
     "metadata": {
      "needs_background": "light"
     },
     "output_type": "display_data"
    }
   ],
   "source": [
    "import matplotlib.pyplot as plp\n",
    "x = [1,2,3,4,5]\n",
    "y = [2,4,6,8,10]\n",
    "xp=np.array(x)\n",
    "yp= np.array(y)\n",
    "plp.plot(xp,yp,)\n",
    "plp.show()"
   ]
  },
  {
   "cell_type": "code",
   "execution_count": 33,
   "id": "f5b59b02",
   "metadata": {
    "scrolled": true
   },
   "outputs": [
    {
     "data": {
      "image/png": "[encoded data removed]",
      "text/plain": [
       "<Figure size 432x288 with 1 Axes>"
      ]
     },
     "metadata": {
      "needs_background": "light"
     },
     "output_type": "display_data"
    }
   ],
   "source": [
    "ybar=[]\n",
    "xbar=[]\n",
    "for i in range(5):\n",
    "    ybar.append((i*i)+(4*i)+1)\n",
    "    xbar.append(i)\n",
    "\n",
    "yp= np.array(ybar)\n",
    "xp= np.array(xbar)\n",
    "plp.plot(xp,yp)\n",
    "plp.show()"
   ]
  },
  {
   "cell_type": "markdown",
   "id": "9a22b641",
   "metadata": {},
   "source": [
    "import pandas as pd"
   ]
  },
  {
   "cell_type": "code",
   "execution_count": 39,
   "id": "646e8baa",
   "metadata": {},
   "outputs": [
    {
     "name": "stdout",
     "output_type": "stream",
     "text": [
      "   x   y\n",
      "0  1   2\n",
      "1  2   4\n",
      "2  3   6\n",
      "3  4   8\n",
      "4  5  10\n"
     ]
    }
   ],
   "source": [
    "import pandas as pd\n",
    "data= {'x':[1,2,3,4,5],'y':[2,4,6,8,10]}\n",
    "df = pd.DataFrame(data)\n",
    "print(df)"
   ]
  },
  {
   "cell_type": "code",
   "execution_count": 40,
   "id": "a2db2a7e",
   "metadata": {},
   "outputs": [
    {
     "name": "stdout",
     "output_type": "stream",
     "text": [
      "0    1\n",
      "1    2\n",
      "2    3\n",
      "3    4\n",
      "4    5\n",
      "Name: x, dtype: int64\n"
     ]
    }
   ],
   "source": [
    "print(df['x'])"
   ]
  },
  {
   "cell_type": "code",
   "execution_count": 41,
   "id": "d0353a37",
   "metadata": {},
   "outputs": [
    {
     "name": "stdout",
     "output_type": "stream",
     "text": [
      "x    1\n",
      "y    2\n",
      "Name: 0, dtype: int64\n"
     ]
    }
   ],
   "source": [
    "print(df.loc[0])"
   ]
  },
  {
   "cell_type": "code",
   "execution_count": 42,
   "id": "86bf2ec2",
   "metadata": {},
   "outputs": [
    {
     "data": {
      "image/png": "[encoded data removed]",
      "text/plain": [
       "<Figure size 432x288 with 1 Axes>"
      ]
     },
     "metadata": {
      "needs_background": "light"
     },
     "output_type": "display_data"
    }
   ],
   "source": [
    "xw=[]\n",
    "xw=np.array(data['x'])\n",
    "yw=np.array(data['y'])\n",
    "plp.plot(xw,yw)\n",
    "plp.show()"
   ]
  },
  {
   "cell_type": "code",
   "execution_count": 43,
   "id": "caae433d",
   "metadata": {},
   "outputs": [
    {
     "name": "stdout",
     "output_type": "stream",
     "text": [
      "[[ 1  2]\n",
      " [ 2  4]\n",
      " [ 3  6]\n",
      " [ 4  8]\n",
      " [ 5 10]]\n"
     ]
    }
   ],
   "source": [
    "ano= df.to_numpy()\n",
    "print(ano)"
   ]
  },
  {
   "cell_type": "code",
   "execution_count": 1,
   "id": "60f9eda9",
   "metadata": {},
   "outputs": [],
   "source": [
    "# new class, Database"
   ]
  },
  {
   "cell_type": "code",
   "execution_count": 4,
   "id": "8f4e2193",
   "metadata": {},
   "outputs": [
    {
     "name": "stdout",
     "output_type": "stream",
     "text": [
      "   1  3\n",
      "0  4  5\n",
      "1  8  7\n",
      "2  9  9\n",
      "3  8  7\n"
     ]
    }
   ],
   "source": [
    "import pandas as pd\n",
    "dj= pd.read_excel('forclass.xlsx')\n",
    "print(dj)"
   ]
  },
  {
   "cell_type": "code",
   "execution_count": null,
   "id": "82222ac8",
   "metadata": {},
   "outputs": [],
   "source": []
  }
 ],
 "metadata": {
  "kernelspec": {
   "display_name": "Python 3",
   "language": "python",
   "name": "python3"
  },
  "language_info": {
   "codemirror_mode": {
    "name": "ipython",
    "version": 3
   },
   "file_extension": ".py",
   "mimetype": "text/x-python",
   "name": "python",
   "nbconvert_exporter": "python",
   "pygments_lexer": "ipython3",
   "version": "3.8.8"
  }
 },
 "nbformat": 4,
 "nbformat_minor": 5
}
